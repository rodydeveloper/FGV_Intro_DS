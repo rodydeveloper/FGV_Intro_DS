{
  "nbformat": 4,
  "nbformat_minor": 0,
  "metadata": {
    "kernelspec": {
      "display_name": "Python 3",
      "language": "python",
      "name": "python3"
    },
    "language_info": {
      "codemirror_mode": {
        "name": "ipython",
        "version": 3
      },
      "file_extension": ".py",
      "mimetype": "text/x-python",
      "name": "python",
      "nbconvert_exporter": "python",
      "pygments_lexer": "ipython3",
      "version": "3.7.6"
    },
    "colab": {
      "name": "Cópia de 1st_Assignments.ipynb",
      "provenance": [],
      "include_colab_link": true
    }
  },
  "cells": [
    {
      "cell_type": "markdown",
      "metadata": {
        "id": "view-in-github",
        "colab_type": "text"
      },
      "source": [
        "<a href=\"https://colab.research.google.com/github/rodydeveloper/FGV_Intro_DS/blob/master/1st_Assignments.ipynb\" target=\"_parent\"><img src=\"https://colab.research.google.com/assets/colab-badge.svg\" alt=\"Open In Colab\"/></a>"
      ]
    },
    {
      "cell_type": "markdown",
      "metadata": {
        "id": "VrIitK475wgo",
        "colab_type": "text"
      },
      "source": [
        "## First list of exercises\n",
        "\n",
        "#### Ordered from the easiest to the \"hardest\""
      ]
    },
    {
      "cell_type": "markdown",
      "metadata": {
        "id": "lL4GiU9L5wgq",
        "colab_type": "text"
      },
      "source": [
        "1) Write a function that takes an integer minutes and converts it to seconds. <font color='green'>(EASY)</font>"
      ]
    },
    {
      "cell_type": "code",
      "metadata": {
        "id": "fP-jUz_95wgr",
        "colab_type": "code",
        "colab": {}
      },
      "source": [
        ""
      ],
      "execution_count": null,
      "outputs": []
    },
    {
      "cell_type": "markdown",
      "metadata": {
        "id": "sFff4E_t5wgv",
        "colab_type": "text"
      },
      "source": [
        "2) Create a function that converts a date formatted as MM/DD/YYYY to YYYYDDMM. The input is a string!"
      ]
    },
    {
      "cell_type": "code",
      "metadata": {
        "id": "YGe7OGLM5wgw",
        "colab_type": "code",
        "colab": {}
      },
      "source": [
        ""
      ],
      "execution_count": null,
      "outputs": []
    },
    {
      "cell_type": "markdown",
      "metadata": {
        "id": "AlXBopod5wgz",
        "colab_type": "text"
      },
      "source": [
        "3) A typical car can hold four passengers and one driver, allowing five people to travel around. Given n number of people, `return` how many cars are needed to seat everyone comfortably."
      ]
    },
    {
      "cell_type": "code",
      "metadata": {
        "id": "Zza495Ci5wg0",
        "colab_type": "code",
        "colab": {}
      },
      "source": [
        ""
      ],
      "execution_count": null,
      "outputs": []
    },
    {
      "cell_type": "markdown",
      "metadata": {
        "id": "p6JZhzs05wg3",
        "colab_type": "text"
      },
      "source": [
        "4) Create a function that replaces all the vowels in a string with the character '#'."
      ]
    },
    {
      "cell_type": "code",
      "metadata": {
        "id": "Fph69cCQ5wg4",
        "colab_type": "code",
        "colab": {}
      },
      "source": [
        ""
      ],
      "execution_count": null,
      "outputs": []
    },
    {
      "cell_type": "markdown",
      "metadata": {
        "id": "88PpC9nJ5wg7",
        "colab_type": "text"
      },
      "source": [
        "5) Write a function that inverts the keys and values of a dictionary."
      ]
    },
    {
      "cell_type": "code",
      "metadata": {
        "id": "9QyWwL-a5wg8",
        "colab_type": "code",
        "colab": {}
      },
      "source": [
        ""
      ],
      "execution_count": null,
      "outputs": []
    },
    {
      "cell_type": "markdown",
      "metadata": {
        "id": "K0mQb7HI5wg_",
        "colab_type": "text"
      },
      "source": [
        "6) Create a function that takes a list of strings and return a list, sorted from shortest to longest."
      ]
    },
    {
      "cell_type": "code",
      "metadata": {
        "id": "NSS15O_-5whA",
        "colab_type": "code",
        "colab": {}
      },
      "source": [
        ""
      ],
      "execution_count": null,
      "outputs": []
    },
    {
      "cell_type": "markdown",
      "metadata": {
        "id": "M3iBzdxv5whD",
        "colab_type": "text"
      },
      "source": [
        "7) Create a function that returns True if the first list is a subset of the second. Return False otherwise."
      ]
    },
    {
      "cell_type": "code",
      "metadata": {
        "id": "lMvFD0Ur5whE",
        "colab_type": "code",
        "colab": {}
      },
      "source": [
        ""
      ],
      "execution_count": null,
      "outputs": []
    },
    {
      "cell_type": "markdown",
      "metadata": {
        "id": "D9Chi8pa5whI",
        "colab_type": "text"
      },
      "source": [
        "8) Create a function that takes an integer and returns the factorial of that integer. That is, the integer multiplied by all positive lower integers."
      ]
    },
    {
      "cell_type": "code",
      "metadata": {
        "id": "CqqzvjLi5whJ",
        "colab_type": "code",
        "colab": {}
      },
      "source": [
        ""
      ],
      "execution_count": null,
      "outputs": []
    },
    {
      "cell_type": "markdown",
      "metadata": {
        "id": "BeSymIWa5whL",
        "colab_type": "text"
      },
      "source": [
        "9) Create a function that takes a number as an argument and returns how many times it is multiple of 3."
      ]
    },
    {
      "cell_type": "code",
      "metadata": {
        "id": "zrDhSbyc5whM",
        "colab_type": "code",
        "colab": {}
      },
      "source": [
        ""
      ],
      "execution_count": null,
      "outputs": []
    },
    {
      "cell_type": "markdown",
      "metadata": {
        "id": "VwW3YuJX5whP",
        "colab_type": "text"
      },
      "source": [
        "10) Create a function that sorts a list and removes all duplicate items from it. (Don't use 'set')"
      ]
    },
    {
      "cell_type": "code",
      "metadata": {
        "id": "IpkBcQBN5whQ",
        "colab_type": "code",
        "colab": {}
      },
      "source": [
        ""
      ],
      "execution_count": null,
      "outputs": []
    }
  ]
}